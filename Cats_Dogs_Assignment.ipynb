{
 "cells": [
  {
   "cell_type": "code",
   "execution_count": 1,
   "metadata": {
    "colab": {
     "base_uri": "https://localhost:8080/",
     "height": 120
    },
    "colab_type": "code",
    "executionInfo": {
     "elapsed": 27208,
     "status": "ok",
     "timestamp": 1573679988265,
     "user": {
      "displayName": "Abhishek Prabhudesai",
      "photoUrl": "",
      "userId": "12511174775926446933"
     },
     "user_tz": 480
    },
    "id": "Ttub6wHZcjw3",
    "outputId": "981e3396-0e3d-4f95-9faa-31ab0a6d5e9e"
   },
   "outputs": [
    {
     "name": "stdout",
     "output_type": "stream",
     "text": [
      "Go to this URL in a browser: https://accounts.google.com/o/oauth2/auth?client_id=947318989803-6bn6qk8qdgf4n4g3pfee6491hc0brc4i.apps.googleusercontent.com&redirect_uri=urn%3Aietf%3Awg%3Aoauth%3A2.0%3Aoob&scope=email%20https%3A%2F%2Fwww.googleapis.com%2Fauth%2Fdocs.test%20https%3A%2F%2Fwww.googleapis.com%2Fauth%2Fdrive%20https%3A%2F%2Fwww.googleapis.com%2Fauth%2Fdrive.photos.readonly%20https%3A%2F%2Fwww.googleapis.com%2Fauth%2Fpeopleapi.readonly&response_type=code\n",
      "\n",
      "Enter your authorization code:\n",
      "··········\n",
      "Mounted at /content/drive\n"
     ]
    }
   ],
   "source": [
    "from google.colab import drive\n",
    "drive.mount('/content/drive')"
   ]
  },
  {
   "cell_type": "code",
   "execution_count": null,
   "metadata": {},
   "outputs": [],
   "source": [
    "from keras.models import Sequential\n",
    "from keras.layers.core import Flatten, Dense, Dropout\n",
    "from keras.layers.convolutional import Convolution2D, MaxPooling2D, ZeroPadding2D,Conv2D\n",
    "from keras.optimizers import SGD\n",
    "import cv2, numpy as np\n",
    "from tensorflow.contrib.layers import flatten"
   ]
  },
  {
   "cell_type": "code",
   "execution_count": 0,
   "metadata": {
    "colab": {},
    "colab_type": "code",
    "id": "U3hQloRxKpEr"
   },
   "outputs": [],
   "source": [
    "from google.colab import files\n",
    "import os"
   ]
  },
  {
   "cell_type": "code",
   "execution_count": 18,
   "metadata": {
    "colab": {
     "base_uri": "https://localhost:8080/",
     "height": 50
    },
    "colab_type": "code",
    "executionInfo": {
     "elapsed": 722,
     "status": "ok",
     "timestamp": 1573683990090,
     "user": {
      "displayName": "Abhishek Prabhudesai",
      "photoUrl": "",
      "userId": "12511174775926446933"
     },
     "user_tz": 480
    },
    "id": "-ZItdBpzpXde",
    "outputId": "e8a4decc-7175-4e38-ecad-190203f41e1e"
   },
   "outputs": [
    {
     "name": "stdout",
     "output_type": "stream",
     "text": [
      "Found 2000 images belonging to 2 classes.\n",
      "Found 1000 images belonging to 2 classes.\n"
     ]
    }
   ],
   "source": [
    "img_width = 150\n",
    "img_height = 150\n",
    "batch_size = 32\n",
    "train_data = '/content/drive/My Drive/DL-Assignment/dataset-dogs-cats/Train_sample'\n",
    "test_data = '/content/drive/My Drive/DL-Assignment/dataset-dogs-cats/Test_sample'\n",
    "\n",
    "train_datagen = ImageDataGenerator(rescale=1./255,shear_range=0.2, zoom_range=0.2,horizontal_flip=True)\n",
    "test_datagen = ImageDataGenerator(rescale=1./255)\n",
    "train_generator = train_datagen.flow_from_directory(directory=train_data,target_size=(img_width,img_height),classes=['Dog','Cat'],class_mode='binary', shuffle=True,batch_size=batch_size)\n",
    "validation_generator = test_datagen.flow_from_directory(directory=test_data, target_size=(img_width,img_height), classes=['Dog','Cat'], class_mode='binary',batch_size=batch_size)"
   ]
  },
  {
   "cell_type": "code",
   "execution_count": 0,
   "metadata": {
    "colab": {
     "base_uri": "https://localhost:8080/",
     "height": 84
    },
    "colab_type": "code",
    "id": "nBhfP1AOwGAE",
    "outputId": "12408179-6039-480e-f2db-f32847d40188"
   },
   "outputs": [
    {
     "name": "stdout",
     "output_type": "stream",
     "text": [
      "VGG 16 model complied!!\n",
      "starting training....\n",
      "Epoch 1/2\n",
      "  7/128 [>.............................] - ETA: 1:01:28 - loss: 6.1486 - acc: 0.5357"
     ]
    }
   ],
   "source": [
    "model = Sequential()\n",
    "model.add(ZeroPadding2D((1,1),input_shape=(img_width, img_height, 3)))\n",
    "model.add(Convolution2D(64, kernel_size=(3, 3), activation='relu'))\n",
    "model.add(ZeroPadding2D((1,1)))\n",
    "model.add(Conv2D(64, kernel_size=(3, 3), strides=1, activation='relu'))\n",
    "model.add(MaxPooling2D((2,2), strides=(2,2), data_format='channels_last'))\n",
    "\n",
    "model.add(ZeroPadding2D((1,1)))\n",
    "model.add(Convolution2D(128, kernel_size=(3, 3), activation='relu'))\n",
    "model.add(ZeroPadding2D((1,1)))\n",
    "model.add(Conv2D(128, kernel_size=(3, 3), activation='relu'))\n",
    "model.add(MaxPooling2D((2,2), strides=(2,2), data_format='channels_last'))\n",
    "\n",
    "model.add(ZeroPadding2D((1,1)))\n",
    "model.add(Convolution2D(256, kernel_size=(3, 3), activation='relu'))\n",
    "model.add(ZeroPadding2D((1,1)))\n",
    "model.add(Convolution2D(256, kernel_size=(3, 3), activation='relu'))\n",
    "model.add(ZeroPadding2D((1,1)))\n",
    "model.add(Conv2D(256, kernel_size=(3, 3), activation='relu'))\n",
    "model.add(MaxPooling2D((2,2), strides=(2,2), data_format='channels_last'))\n",
    "\n",
    "model.add(ZeroPadding2D((1,1)))\n",
    "model.add(Convolution2D(512, kernel_size=(3, 3), activation='relu'))\n",
    "model.add(ZeroPadding2D((1,1)))\n",
    "model.add(Convolution2D(512, kernel_size=(3, 3), activation='relu'))\n",
    "model.add(ZeroPadding2D((1,1)))\n",
    "model.add(Conv2D(512, kernel_size=(3, 3), activation='relu'))\n",
    "model.add(MaxPooling2D((2,2), strides=(2,2), data_format='channels_last'))\n",
    "\n",
    "model.add(ZeroPadding2D((1,1)))\n",
    "model.add(Convolution2D(512, kernel_size=(3, 3), activation='relu'))\n",
    "model.add(ZeroPadding2D((1,1)))\n",
    "model.add(Convolution2D(512, kernel_size=(3, 3), activation='relu'))\n",
    "model.add(ZeroPadding2D((1,1)))\n",
    "model.add(Conv2D(512, kernel_size=(3, 3), activation='relu'))\n",
    "model.add(MaxPooling2D((2,2), strides=(2,2), data_format='channels_last'))\n",
    "\n",
    "model.add(Flatten())\n",
    "model.add(Dense(4096, activation='relu'))\n",
    "model.add(Dropout(0.5))\n",
    "model.add(Dense(4096, activation='relu'))\n",
    "model.add(Dropout(0.5))\n",
    "model.add(Dense(1, activation='sigmoid'))\n",
    "\n",
    "\n",
    "model.compile(loss='binary_crossentropy',optimizer='rmsprop',metrics=['accuracy'])\n",
    "\n",
    "print('VGG 16 model complied!!')\n",
    "\n",
    "print('starting training....')\n",
    "train_history = model.fit_generator(generator=train_generator, steps_per_epoch=128,epochs=2,validation_data=validation_generator,validation_steps=50)\n"
   ]
  },
  {
   "cell_type": "code",
   "execution_count": 0,
   "metadata": {
    "colab": {},
    "colab_type": "code",
    "id": "HCyLiDYPqh1A"
   },
   "outputs": [],
   "source": [
    "def plotImages(images_arr, subplt):\n",
    "    fig, axes = plt.subplots(1, subplt, figsize=(15,15))\n",
    "    axes = axes.flatten()\n",
    "    for img, ax in zip( images_arr, axes):\n",
    "        ax.imshow(img)\n",
    "        ax.axis('off')\n",
    "    plt.tight_layout()\n",
    "    plt.show()"
   ]
  },
  {
   "cell_type": "code",
   "execution_count": null,
   "metadata": {},
   "outputs": [],
   "source": [
    "augmented_images = [train_generator[0][0][0] for i in range(5)]\n",
    "plotImages(augmented_images,5)"
   ]
  },
  {
   "cell_type": "code",
   "execution_count": 40,
   "metadata": {
    "colab": {
     "base_uri": "https://localhost:8080/",
     "height": 545
    },
    "colab_type": "code",
    "executionInfo": {
     "elapsed": 1209,
     "status": "ok",
     "timestamp": 1573691542954,
     "user": {
      "displayName": "Abhishek Prabhudesai",
      "photoUrl": "",
      "userId": "12511174775926446933"
     },
     "user_tz": 480
    },
    "id": "pxsIiaYNEk23",
    "outputId": "5d44327c-d2c0-4d30-cc3b-6af46761f94c"
   },
   "outputs": [
    {
     "data": {
      "image/png": "[encoded data removed]",
      "text/plain": [
       "<Figure size 432x288 with 1 Axes>"
      ]
     },
     "metadata": {
      "tags": []
     },
     "output_type": "display_data"
    },
    {
     "data": {
      "image/png": "[encoded data removed]",
      "text/plain": [
       "<Figure size 432x288 with 1 Axes>"
      ]
     },
     "metadata": {
      "tags": []
     },
     "output_type": "display_data"
    }
   ],
   "source": [
    "import matplotlib.pyplot as plt\n",
    "acc = train_history.history['acc']\n",
    "val_acc = train_history.history['val_acc']\n",
    "loss = train_history.history['loss']\n",
    "val_loss = train_history.history['val_loss']\n",
    "epochs = range(1, len(acc) + 1)\n",
    "plt.plot(epochs, acc, 'blue', label='Training acc')\n",
    "plt.plot(epochs, val_acc, 'red', label='Validation acc')\n",
    "plt.title('Training and validation accuracy')\n",
    "plt.legend()\n",
    "plt.figure()\n",
    "plt.plot(epochs, loss, 'blue', label='Training loss')\n",
    "plt.plot(epochs, val_loss, 'red', label='Validation loss')\n",
    "plt.title('Training and validation loss')\n",
    "plt.legend()\n",
    "plt.show()"
   ]
  },
  {
   "cell_type": "markdown",
   "metadata": {
    "colab_type": "text",
    "id": "QkFuDZwjwZEc"
   },
   "source": [
    "LeNet architecture\n"
   ]
  },
  {
   "cell_type": "code",
   "execution_count": 41,
   "metadata": {
    "colab": {
     "base_uri": "https://localhost:8080/",
     "height": 134
    },
    "colab_type": "code",
    "executionInfo": {
     "elapsed": 266566,
     "status": "ok",
     "timestamp": 1573691953006,
     "user": {
      "displayName": "Abhishek Prabhudesai",
      "photoUrl": "",
      "userId": "12511174775926446933"
     },
     "user_tz": 480
    },
    "id": "4L4Gj70KwShu",
    "outputId": "feb2e9ae-aafe-4a7a-b522-5ab4206b0a43"
   },
   "outputs": [
    {
     "name": "stdout",
     "output_type": "stream",
     "text": [
      "LeNet model complied!!\n",
      "starting training....\n",
      "Epoch 1/2\n",
      "128/128 [==============================] - 145s 1s/step - loss: 0.7305 - acc: 0.5732 - val_loss: 0.6625 - val_acc: 0.6136\n",
      "Epoch 2/2\n",
      "128/128 [==============================] - 120s 937ms/step - loss: 0.6500 - acc: 0.6536 - val_loss: 0.6172 - val_acc: 0.6476\n",
      "training finished!!\n"
     ]
    }
   ],
   "source": [
    "model = Sequential()\n",
    "model.add(Conv2D(filters = 6, \n",
    "                 kernel_size = 5, \n",
    "                 strides = 1, \n",
    "                 activation = 'relu', \n",
    "                 input_shape = (150,150,3)))\n",
    "model.add(MaxPooling2D(pool_size = 2, strides = 2))\n",
    "model.add(Conv2D(filters = 16, \n",
    "                 kernel_size = 5,\n",
    "                 strides = 1,\n",
    "                 activation = 'relu',\n",
    "                 input_shape = (14,14,6)))\n",
    "model.add(MaxPooling2D(pool_size = 2, strides = 2))\n",
    "model.add(Flatten())\n",
    "model.add(Dense(units = 120, activation = 'relu'))\n",
    "model.add(Dense(units = 84, activation = 'relu'))\n",
    "model.add(Dense(units = 1, activation = 'sigmoid'))\n",
    "\n",
    "model.compile(loss='binary_crossentropy',optimizer='rmsprop',metrics=['accuracy'])\n",
    "\n",
    "print('LeNet model complied!!')\n",
    "\n",
    "print('starting training....')\n",
    "train_history = model.fit_generator(generator=train_generator, steps_per_epoch=128,epochs=2,validation_data=validation_generator,validation_steps=50)\n",
    "print('training finished!!')\n"
   ]
  },
  {
   "cell_type": "code",
   "execution_count": 42,
   "metadata": {
    "colab": {
     "base_uri": "https://localhost:8080/",
     "height": 418
    },
    "colab_type": "code",
    "executionInfo": {
     "elapsed": 601,
     "status": "ok",
     "timestamp": 1573691957607,
     "user": {
      "displayName": "Abhishek Prabhudesai",
      "photoUrl": "",
      "userId": "12511174775926446933"
     },
     "user_tz": 480
    },
    "id": "LnEaeNtLKnzn",
    "outputId": "60b729a8-cd90-4132-a62d-467fb90b75ab"
   },
   "outputs": [
    {
     "name": "stdout",
     "output_type": "stream",
     "text": [
      "Model: \"sequential_13\"\n",
      "_________________________________________________________________\n",
      "Layer (type)                 Output Shape              Param #   \n",
      "=================================================================\n",
      "conv2d_68 (Conv2D)           (None, 146, 146, 6)       456       \n",
      "_________________________________________________________________\n",
      "max_pooling2d_35 (MaxPooling (None, 73, 73, 6)         0         \n",
      "_________________________________________________________________\n",
      "conv2d_69 (Conv2D)           (None, 69, 69, 16)        2416      \n",
      "_________________________________________________________________\n",
      "max_pooling2d_36 (MaxPooling (None, 34, 34, 16)        0         \n",
      "_________________________________________________________________\n",
      "flatten_12 (Flatten)         (None, 18496)             0         \n",
      "_________________________________________________________________\n",
      "dense_34 (Dense)             (None, 120)               2219640   \n",
      "_________________________________________________________________\n",
      "dense_35 (Dense)             (None, 84)                10164     \n",
      "_________________________________________________________________\n",
      "dense_36 (Dense)             (None, 1)                 85        \n",
      "=================================================================\n",
      "Total params: 2,232,761\n",
      "Trainable params: 2,232,761\n",
      "Non-trainable params: 0\n",
      "_________________________________________________________________\n"
     ]
    }
   ],
   "source": [
    "model.summary()"
   ]
  },
  {
   "cell_type": "code",
   "execution_count": 44,
   "metadata": {
    "colab": {
     "base_uri": "https://localhost:8080/",
     "height": 545
    },
    "colab_type": "code",
    "executionInfo": {
     "elapsed": 1043,
     "status": "ok",
     "timestamp": 1573691962881,
     "user": {
      "displayName": "Abhishek Prabhudesai",
      "photoUrl": "",
      "userId": "12511174775926446933"
     },
     "user_tz": 480
    },
    "id": "SzaxHniSBstL",
    "outputId": "6d6bbac2-0ac4-47c1-ecb7-6fc1bc70330f"
   },
   "outputs": [
    {
     "data": {
      "image/png": "[encoded data removed]",
      "text/plain": [
       "<Figure size 432x288 with 1 Axes>"
      ]
     },
     "metadata": {
      "tags": []
     },
     "output_type": "display_data"
    },
    {
     "data": {
      "image/png": "[encoded data removed]",
      "text/plain": [
       "<Figure size 432x288 with 1 Axes>"
      ]
     },
     "metadata": {
      "tags": []
     },
     "output_type": "display_data"
    }
   ],
   "source": [
    "import matplotlib.pyplot as plt\n",
    "acc = train_history.history['acc']\n",
    "val_acc = train_history.history['val_acc']\n",
    "loss = train_history.history['loss']\n",
    "val_loss = train_history.history['val_loss']\n",
    "epochs = range(1, len(acc) + 1)\n",
    "plt.plot(epochs, acc, 'blue', label='Training acc')\n",
    "plt.plot(epochs, val_acc, 'red', label='Validation acc')\n",
    "plt.title('Training and validation accuracy')\n",
    "plt.legend()\n",
    "plt.figure()\n",
    "plt.plot(epochs, loss, 'blue', label='Training loss')\n",
    "plt.plot(epochs, val_loss, 'red', label='Validation loss')\n",
    "plt.title('Training and validation loss')\n",
    "plt.legend()\n",
    "plt.show()"
   ]
  },
  {
   "cell_type": "code",
   "execution_count": 0,
   "metadata": {
    "colab": {},
    "colab_type": "code",
    "id": "X3ywJ07BFxxd"
   },
   "outputs": [],
   "source": []
  }
 ],
 "metadata": {
  "colab": {
   "collapsed_sections": [],
   "name": "Cats_Vs_Dog_VGG.ipynb",
   "provenance": []
  },
  "kernelspec": {
   "display_name": "Python 3",
   "language": "python",
   "name": "python3"
  },
  "language_info": {
   "codemirror_mode": {
    "name": "ipython",
    "version": 3
   },
   "file_extension": ".py",
   "mimetype": "text/x-python",
   "name": "python",
   "nbconvert_exporter": "python",
   "pygments_lexer": "ipython3",
   "version": "3.6.4"
  }
 },
 "nbformat": 4,
 "nbformat_minor": 1
}
